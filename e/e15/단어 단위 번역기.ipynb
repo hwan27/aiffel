{
 "cells": [
  {
   "cell_type": "markdown",
   "metadata": {},
   "source": [
    "## 단어 단위의 번역기 만들기"
   ]
  },
  {
   "cell_type": "markdown",
   "metadata": {},
   "source": [
    "### 1. 정제, 정규화, 전처리\n",
    "---\n",
    "- 구두점과 단어를 분리한다\n",
    "- 소문자로 바꾼다\n",
    "- 띄어쓰기 단위로 토큰화한다.\n",
    "- 시작 토큰과 종료 토큰을 추가한다"
   ]
  },
  {
   "cell_type": "code",
   "execution_count": 1,
   "metadata": {},
   "outputs": [],
   "source": [
    "import pandas as pd\n",
    "import numpy as np\n",
    "import os\n",
    "\n",
    "from tensorflow.keras.preprocessing.text import Tokenizer\n",
    "from tensorflow.keras.preprocessing.sequence import pad_sequences\n",
    "from tensorflow.keras.utils import to_categorical"
   ]
  },
  {
   "cell_type": "code",
   "execution_count": 2,
   "metadata": {},
   "outputs": [
    {
     "name": "stdout",
     "output_type": "stream",
     "text": [
      "전체 샘플: 178009\n"
     ]
    },
    {
     "data": {
      "text/html": [
       "<div>\n",
       "<style scoped>\n",
       "    .dataframe tbody tr th:only-of-type {\n",
       "        vertical-align: middle;\n",
       "    }\n",
       "\n",
       "    .dataframe tbody tr th {\n",
       "        vertical-align: top;\n",
       "    }\n",
       "\n",
       "    .dataframe thead th {\n",
       "        text-align: right;\n",
       "    }\n",
       "</style>\n",
       "<table border=\"1\" class=\"dataframe\">\n",
       "  <thead>\n",
       "    <tr style=\"text-align: right;\">\n",
       "      <th></th>\n",
       "      <th>eng</th>\n",
       "      <th>fra</th>\n",
       "      <th>cc</th>\n",
       "    </tr>\n",
       "  </thead>\n",
       "  <tbody>\n",
       "    <tr>\n",
       "      <th>157477</th>\n",
       "      <td>And while I'm at it, I have another question.</td>\n",
       "      <td>Et pendant que j'y suis, j'ai une autre question.</td>\n",
       "      <td>CC-BY 2.0 (France) Attribution: tatoeba.org #6...</td>\n",
       "    </tr>\n",
       "    <tr>\n",
       "      <th>175481</th>\n",
       "      <td>I don't have time to deal with this letter. Co...</td>\n",
       "      <td>Je n'ai pas le temps de m'occuper de cette let...</td>\n",
       "      <td>CC-BY 2.0 (France) Attribution: tatoeba.org #1...</td>\n",
       "    </tr>\n",
       "    <tr>\n",
       "      <th>53534</th>\n",
       "      <td>Can I offer you a drink?</td>\n",
       "      <td>Puis-je vous offrir un verre?</td>\n",
       "      <td>CC-BY 2.0 (France) Attribution: tatoeba.org #3...</td>\n",
       "    </tr>\n",
       "    <tr>\n",
       "      <th>27455</th>\n",
       "      <td>Where are my books?</td>\n",
       "      <td>Où sont mes livres ?</td>\n",
       "      <td>CC-BY 2.0 (France) Attribution: tatoeba.org #1...</td>\n",
       "    </tr>\n",
       "    <tr>\n",
       "      <th>166895</th>\n",
       "      <td>The President of the United States is now in J...</td>\n",
       "      <td>Le président des États-Unis est actuellement a...</td>\n",
       "      <td>CC-BY 2.0 (France) Attribution: tatoeba.org #3...</td>\n",
       "    </tr>\n",
       "  </tbody>\n",
       "</table>\n",
       "</div>"
      ],
      "text/plain": [
       "                                                      eng  \\\n",
       "157477      And while I'm at it, I have another question.   \n",
       "175481  I don't have time to deal with this letter. Co...   \n",
       "53534                            Can I offer you a drink?   \n",
       "27455                                 Where are my books?   \n",
       "166895  The President of the United States is now in J...   \n",
       "\n",
       "                                                      fra  \\\n",
       "157477  Et pendant que j'y suis, j'ai une autre question.   \n",
       "175481  Je n'ai pas le temps de m'occuper de cette let...   \n",
       "53534                       Puis-je vous offrir un verre?   \n",
       "27455                                Où sont mes livres ?   \n",
       "166895  Le président des États-Unis est actuellement a...   \n",
       "\n",
       "                                                       cc  \n",
       "157477  CC-BY 2.0 (France) Attribution: tatoeba.org #6...  \n",
       "175481  CC-BY 2.0 (France) Attribution: tatoeba.org #1...  \n",
       "53534   CC-BY 2.0 (France) Attribution: tatoeba.org #3...  \n",
       "27455   CC-BY 2.0 (France) Attribution: tatoeba.org #1...  \n",
       "166895  CC-BY 2.0 (France) Attribution: tatoeba.org #3...  "
      ]
     },
     "execution_count": 2,
     "metadata": {},
     "output_type": "execute_result"
    }
   ],
   "source": [
    "file_path = os.getenv(\"HOME\") + \"/project/aiffel/e/e15/data/fra.txt\"\n",
    "lines = pd.read_csv(file_path, names=['eng', 'fra', 'cc'], sep='\\t')\n",
    "print('전체 샘플:', len(lines))\n",
    "lines.sample(5)"
   ]
  },
  {
   "cell_type": "code",
   "execution_count": 3,
   "metadata": {},
   "outputs": [
    {
     "data": {
      "text/html": [
       "<div>\n",
       "<style scoped>\n",
       "    .dataframe tbody tr th:only-of-type {\n",
       "        vertical-align: middle;\n",
       "    }\n",
       "\n",
       "    .dataframe tbody tr th {\n",
       "        vertical-align: top;\n",
       "    }\n",
       "\n",
       "    .dataframe thead th {\n",
       "        text-align: right;\n",
       "    }\n",
       "</style>\n",
       "<table border=\"1\" class=\"dataframe\">\n",
       "  <thead>\n",
       "    <tr style=\"text-align: right;\">\n",
       "      <th></th>\n",
       "      <th>eng</th>\n",
       "      <th>fra</th>\n",
       "    </tr>\n",
       "  </thead>\n",
       "  <tbody>\n",
       "    <tr>\n",
       "      <th>11522</th>\n",
       "      <td>I'll follow you.</td>\n",
       "      <td>Je vous suivrai.</td>\n",
       "    </tr>\n",
       "    <tr>\n",
       "      <th>9393</th>\n",
       "      <td>Tom is packing.</td>\n",
       "      <td>Tom fait ses bagages.</td>\n",
       "    </tr>\n",
       "    <tr>\n",
       "      <th>20870</th>\n",
       "      <td>Show me the money.</td>\n",
       "      <td>Montre-moi l'argent.</td>\n",
       "    </tr>\n",
       "    <tr>\n",
       "      <th>744</th>\n",
       "      <td>I'm fussy.</td>\n",
       "      <td>Je suis difficile.</td>\n",
       "    </tr>\n",
       "    <tr>\n",
       "      <th>6235</th>\n",
       "      <td>It's too late.</td>\n",
       "      <td>Il est trop tard.</td>\n",
       "    </tr>\n",
       "  </tbody>\n",
       "</table>\n",
       "</div>"
      ],
      "text/plain": [
       "                      eng                    fra\n",
       "11522    I'll follow you.       Je vous suivrai.\n",
       "9393      Tom is packing.  Tom fait ses bagages.\n",
       "20870  Show me the money.   Montre-moi l'argent.\n",
       "744            I'm fussy.     Je suis difficile.\n",
       "6235       It's too late.      Il est trop tard."
      ]
     },
     "execution_count": 3,
     "metadata": {},
     "output_type": "execute_result"
    }
   ],
   "source": [
    "lines = lines[['eng', 'fra']][:33000]\n",
    "lines.sample(5)"
   ]
  },
  {
   "cell_type": "code",
   "execution_count": 4,
   "metadata": {},
   "outputs": [],
   "source": [
    "import re\n",
    "\n",
    "def preprocess_sentence(sentence):\n",
    "    sentence = sentence.lower().strip()\n",
    "    sentence = re.sub(r\"([?.!,¿])\", r\" \\1 \", sentence)\n",
    "    sentence = re.sub(r'[\" \"]+', \" \", sentence)\n",
    "    sentence = re.sub(r\"[^a-zA-Z?.!]+\", \" \", sentence)\n",
    "    sentence = sentence.strip()\n",
    "    sentence = sentence.split(\" \")\n",
    "    return sentence\n",
    "\n",
    "def preprocess_sentence_decoder(sentence):\n",
    "    sentence = sentence.lower().strip()\n",
    "    sentence = re.sub(r\"([?.!,¿])\", r\" \\1 \", sentence)\n",
    "    sentence = re.sub(r'[\" \"]+', \" \", sentence)\n",
    "    sentence = re.sub(r\"[^a-zA-Z?.!]+\", \" \", sentence)\n",
    "    sentence = sentence.strip()\n",
    "    sentence = '<start> ' + sentence + ' <end>'\n",
    "    sentence = sentence.split(\" \")\n",
    "    return sentence"
   ]
  },
  {
   "cell_type": "code",
   "execution_count": 5,
   "metadata": {},
   "outputs": [],
   "source": [
    "lines.eng = lines.eng.apply(lambda x: preprocess_sentence(x))\n",
    "lines.fra = lines.fra.apply(lambda x: preprocess_sentence_decoder(x))"
   ]
  },
  {
   "cell_type": "code",
   "execution_count": 6,
   "metadata": {},
   "outputs": [
    {
     "data": {
      "text/plain": [
       "21902       [we, train, together, .]\n",
       "16184        [rabbits, can, swim, .]\n",
       "5145            [get, your, coat, .]\n",
       "28534    [do, you, like, english, ?]\n",
       "14236      [he, gave, it, to, me, .]\n",
       "Name: eng, dtype: object"
      ]
     },
     "execution_count": 6,
     "metadata": {},
     "output_type": "execute_result"
    }
   ],
   "source": [
    "lines.eng.sample(5)"
   ]
  },
  {
   "cell_type": "code",
   "execution_count": 7,
   "metadata": {},
   "outputs": [
    {
     "data": {
      "text/plain": [
       "700                     [<start>, je, vivrai, ., <end>]\n",
       "25971         [<start>, elle, parle, chinois, ., <end>]\n",
       "22191         [<start>, o, peuvent, ils, tre, ?, <end>]\n",
       "4775              [<start>, tu, l, as, bless, ., <end>]\n",
       "30886    [<start>, c, tait, assez, effrayant, ., <end>]\n",
       "Name: fra, dtype: object"
      ]
     },
     "execution_count": 7,
     "metadata": {},
     "output_type": "execute_result"
    }
   ],
   "source": [
    "lines.fra.sample(5)"
   ]
  },
  {
   "cell_type": "markdown",
   "metadata": {},
   "source": [
    "### 2. 텍스트를 숫자로\n",
    "---\n",
    "- 케라스 토크나이저"
   ]
  },
  {
   "cell_type": "code",
   "execution_count": 8,
   "metadata": {},
   "outputs": [
    {
     "data": {
      "text/plain": [
       "[[30, 1], [1132, 1], [1132, 1]]"
      ]
     },
     "execution_count": 8,
     "metadata": {},
     "output_type": "execute_result"
    }
   ],
   "source": [
    "eng_tokenizer = Tokenizer()\n",
    "eng_tokenizer.fit_on_texts(lines.eng)\n",
    "input_text = eng_tokenizer.texts_to_sequences(lines.eng)\n",
    "input_text[:3]"
   ]
  },
  {
   "cell_type": "code",
   "execution_count": 9,
   "metadata": {},
   "outputs": [
    {
     "data": {
      "text/plain": [
       "[[1, 91, 12, 2], [1, 1068, 12, 2], [1, 1068, 3, 2]]"
      ]
     },
     "execution_count": 9,
     "metadata": {},
     "output_type": "execute_result"
    }
   ],
   "source": [
    "fra_tokenizer = Tokenizer()\n",
    "fra_tokenizer.fit_on_texts(lines.fra)\n",
    "target_text = fra_tokenizer.texts_to_sequences(lines.fra)\n",
    "target_text[:3]"
   ]
  },
  {
   "cell_type": "code",
   "execution_count": 10,
   "metadata": {},
   "outputs": [
    {
     "name": "stdout",
     "output_type": "stream",
     "text": [
      "영어 단어장의 크기:  4662\n",
      "프랑스어 단어장의 크기:  7326\n"
     ]
    }
   ],
   "source": [
    "eng_vocab_size = len(eng_tokenizer.word_index) + 1\n",
    "fra_vocab_size = len(fra_tokenizer.word_index) + 1\n",
    "print('영어 단어장의 크기: ', eng_vocab_size)\n",
    "print('프랑스어 단어장의 크기: ', fra_vocab_size)"
   ]
  },
  {
   "cell_type": "code",
   "execution_count": 11,
   "metadata": {},
   "outputs": [
    {
     "name": "stdout",
     "output_type": "stream",
     "text": [
      "영어 시퀀스의 최대 길이:  8\n",
      "프랑스어 시퀀스의 최대 길이:  17\n"
     ]
    }
   ],
   "source": [
    "max_eng_len = max([len(line) for line in input_text])\n",
    "max_fra_len = max([len(line) for line in target_text])\n",
    "print('영어 시퀀스의 최대 길이: ', max_eng_len)\n",
    "print('프랑스어 시퀀스의 최대 길이: ', max_fra_len)"
   ]
  },
  {
   "cell_type": "code",
   "execution_count": 12,
   "metadata": {},
   "outputs": [
    {
     "name": "stdout",
     "output_type": "stream",
     "text": [
      "[[1, 91, 12], [1, 1068, 12], [1, 1068, 3], [1, 928, 12], [1, 2190, 12]]\n",
      "[[91, 12, 2], [1068, 12, 2], [1068, 3, 2], [928, 12, 2], [2190, 12, 2]]\n"
     ]
    }
   ],
   "source": [
    "sos_token = '<start>'\n",
    "eos_token = '<end>'\n",
    "\n",
    "encoder_input = input_text\n",
    "decoder_input = [[ char for char in line if char != fra_tokenizer.word_index[eos_token]] for line in target_text]\n",
    "decoder_target = [[ char for char in line if char != fra_tokenizer.word_index[sos_token]] for line in target_text]\n",
    "\n",
    "print(decoder_input[:5])\n",
    "print(decoder_target[:5])"
   ]
  },
  {
   "cell_type": "code",
   "execution_count": 13,
   "metadata": {},
   "outputs": [
    {
     "name": "stdout",
     "output_type": "stream",
     "text": [
      "영어 데이터의 shape:  (33000, 8)\n",
      "프랑스어 입력 데이터의 shape:  (33000, 17)\n",
      "프랑스어 출력 데이터의 shape:  (33000, 17)\n"
     ]
    }
   ],
   "source": [
    "encoder_input = pad_sequences(encoder_input, maxlen=max_eng_len, padding='post')\n",
    "decoder_input = pad_sequences(decoder_input, maxlen=max_fra_len, padding='post')\n",
    "decoder_target = pad_sequences(decoder_target, maxlen=max_fra_len, padding='post')\n",
    "\n",
    "print('영어 데이터의 shape: ', np.shape(encoder_input))\n",
    "print('프랑스어 입력 데이터의 shape: ', np.shape(decoder_input))\n",
    "print('프랑스어 출력 데이터의 shape: ', np.shape(decoder_target))"
   ]
  },
  {
   "cell_type": "code",
   "execution_count": 14,
   "metadata": {},
   "outputs": [
    {
     "name": "stdout",
     "output_type": "stream",
     "text": [
      "[30  1  0  0  0  0  0  0]\n"
     ]
    }
   ],
   "source": [
    "print(encoder_input[0])"
   ]
  },
  {
   "cell_type": "code",
   "execution_count": 15,
   "metadata": {},
   "outputs": [
    {
     "name": "stdout",
     "output_type": "stream",
     "text": [
      "[ 7420  2885 12894 ... 17916 15362 13415]\n"
     ]
    }
   ],
   "source": [
    "indices = np.arange(encoder_input.shape[0])\n",
    "np.random.shuffle(indices)\n",
    "print(indices)"
   ]
  },
  {
   "cell_type": "code",
   "execution_count": 21,
   "metadata": {},
   "outputs": [
    {
     "name": "stdout",
     "output_type": "stream",
     "text": [
      "(30000, 8)\n",
      "(30000, 17)\n",
      "(30000, 17)\n",
      "(3000, 8)\n",
      "(3000, 17)\n",
      "(3000, 17)\n"
     ]
    }
   ],
   "source": [
    "encoder_input = encoder_input[indices]\n",
    "decoder_input = decoder_input[indices]\n",
    "decoder_target = decoder_target[indices]\n",
    "\n",
    "n_of_val = 3000\n",
    "\n",
    "encoder_input_train = encoder_input[:-n_of_val]\n",
    "decoder_input_train = decoder_input[:-n_of_val]\n",
    "decoder_target_train = decoder_target[:-n_of_val]\n",
    "\n",
    "encoder_input_test = encoder_input[-n_of_val:]\n",
    "decoder_input_test = decoder_input[-n_of_val:]\n",
    "decoder_target_test = decoder_target[-n_of_val:]\n",
    "\n",
    "print(encoder_input_train.shape)\n",
    "print(decoder_input_train.shape)\n",
    "print(decoder_target_train.shape)\n",
    "\n",
    "print(encoder_input_test.shape)\n",
    "print(decoder_input_test.shape)\n",
    "print(decoder_target_test.shape)"
   ]
  },
  {
   "cell_type": "markdown",
   "metadata": {},
   "source": [
    "### 3. 임베딩 레이어 \n",
    "---\n",
    "- 케라스 임베딩 레이어\n",
    "- 인코더와 디코더의 임베딩은 서로 다르지만 훈련 과정과 테스트 과정의 임베딩은 동일"
   ]
  },
  {
   "cell_type": "code",
   "execution_count": 17,
   "metadata": {},
   "outputs": [],
   "source": [
    "from tensorflow.keras.layers import Input, LSTM, Embedding, Dense, Masking\n",
    "from tensorflow.keras.models import Model"
   ]
  },
  {
   "cell_type": "code",
   "execution_count": 22,
   "metadata": {},
   "outputs": [],
   "source": [
    "encoder_inputs = Input(shape=(None,))\n",
    "\n",
    "enc_emb = Embedding(eng_vocab_size, 256, input_length=max_eng_len)(encoder_inputs)\n",
    "enc_masking = Masking(mask_value=0.0)(enc_emb)\n",
    "encoder_lstm = LSTM(units = 256, return_state = True)\n",
    "encoder_outputs, state_h, state_c = encoder_lstm(enc_masking)\n",
    "encoder_states = [state_h, state_c]"
   ]
  },
  {
   "cell_type": "code",
   "execution_count": 23,
   "metadata": {},
   "outputs": [
    {
     "name": "stdout",
     "output_type": "stream",
     "text": [
      "Model: \"functional_3\"\n",
      "__________________________________________________________________________________________________\n",
      "Layer (type)                    Output Shape         Param #     Connected to                     \n",
      "==================================================================================================\n",
      "input_3 (InputLayer)            [(None, None)]       0                                            \n",
      "__________________________________________________________________________________________________\n",
      "input_4 (InputLayer)            [(None, None)]       0                                            \n",
      "__________________________________________________________________________________________________\n",
      "embedding_2 (Embedding)         (None, None, 256)    1193472     input_3[0][0]                    \n",
      "__________________________________________________________________________________________________\n",
      "embedding_3 (Embedding)         (None, None, 256)    1875456     input_4[0][0]                    \n",
      "__________________________________________________________________________________________________\n",
      "masking_2 (Masking)             (None, None, 256)    0           embedding_2[0][0]                \n",
      "__________________________________________________________________________________________________\n",
      "masking_3 (Masking)             (None, None, 256)    0           embedding_3[0][0]                \n",
      "__________________________________________________________________________________________________\n",
      "lstm_2 (LSTM)                   [(None, 256), (None, 525312      masking_2[0][0]                  \n",
      "__________________________________________________________________________________________________\n",
      "lstm_3 (LSTM)                   [(None, None, 256),  525312      masking_3[0][0]                  \n",
      "                                                                 lstm_2[0][1]                     \n",
      "                                                                 lstm_2[0][2]                     \n",
      "__________________________________________________________________________________________________\n",
      "dense_1 (Dense)                 (None, None, 7326)   1882782     lstm_3[0][0]                     \n",
      "==================================================================================================\n",
      "Total params: 6,002,334\n",
      "Trainable params: 6,002,334\n",
      "Non-trainable params: 0\n",
      "__________________________________________________________________________________________________\n"
     ]
    }
   ],
   "source": [
    "decoder_inputs = Input(shape=(None,))\n",
    "\n",
    "dec_emb = Embedding(fra_vocab_size, 256)(decoder_inputs)\n",
    "dec_masking = Masking(mask_value=0.0)(dec_emb)\n",
    "decoder_lstm = LSTM(units = 256, return_sequences = True, return_state=True)\n",
    "decoder_outputs, _, _= decoder_lstm(dec_masking, initial_state = encoder_states)\n",
    "\n",
    "decoder_softmax_layer = Dense(fra_vocab_size, activation='softmax')\n",
    "decoder_outputs = decoder_softmax_layer(decoder_outputs)\n",
    "\n",
    "model = Model([encoder_inputs, decoder_inputs], decoder_outputs)\n",
    "model.compile(optimizer=\"rmsprop\", loss='sparse_categorical_crossentropy', metrics=['acc'])\n",
    "model.summary()"
   ]
  },
  {
   "cell_type": "code",
   "execution_count": 24,
   "metadata": {},
   "outputs": [
    {
     "name": "stdout",
     "output_type": "stream",
     "text": [
      "Epoch 1/40\n",
      "235/235 [==============================] - 12s 49ms/step - loss: 1.9167 - acc: 0.7050 - val_loss: 1.5308 - val_acc: 0.7471\n",
      "Epoch 2/40\n",
      "235/235 [==============================] - 10s 44ms/step - loss: 1.3796 - acc: 0.7730 - val_loss: 1.2589 - val_acc: 0.7945\n",
      "Epoch 3/40\n",
      "235/235 [==============================] - 10s 44ms/step - loss: 1.1727 - acc: 0.8038 - val_loss: 1.1271 - val_acc: 0.8131\n",
      "Epoch 4/40\n",
      "235/235 [==============================] - 10s 44ms/step - loss: 1.0522 - acc: 0.8202 - val_loss: 1.0390 - val_acc: 0.8248\n",
      "Epoch 5/40\n",
      "235/235 [==============================] - 10s 44ms/step - loss: 0.9643 - acc: 0.8316 - val_loss: 0.9823 - val_acc: 0.8316\n",
      "Epoch 6/40\n",
      "235/235 [==============================] - 10s 44ms/step - loss: 0.8903 - acc: 0.8412 - val_loss: 0.9257 - val_acc: 0.8397\n",
      "Epoch 7/40\n",
      "235/235 [==============================] - 10s 44ms/step - loss: 0.8262 - acc: 0.8495 - val_loss: 0.8767 - val_acc: 0.8462\n",
      "Epoch 8/40\n",
      "235/235 [==============================] - 10s 44ms/step - loss: 0.7695 - acc: 0.8572 - val_loss: 0.8451 - val_acc: 0.8517\n",
      "Epoch 9/40\n",
      "235/235 [==============================] - 10s 44ms/step - loss: 0.7190 - acc: 0.8650 - val_loss: 0.8141 - val_acc: 0.8549\n",
      "Epoch 10/40\n",
      "235/235 [==============================] - 10s 44ms/step - loss: 0.6739 - acc: 0.8718 - val_loss: 0.7840 - val_acc: 0.8600\n",
      "Epoch 11/40\n",
      "235/235 [==============================] - 10s 44ms/step - loss: 0.6334 - acc: 0.8786 - val_loss: 0.7623 - val_acc: 0.8625\n",
      "Epoch 12/40\n",
      "235/235 [==============================] - 10s 44ms/step - loss: 0.5974 - acc: 0.8847 - val_loss: 0.7403 - val_acc: 0.8669\n",
      "Epoch 13/40\n",
      "235/235 [==============================] - 10s 44ms/step - loss: 0.5647 - acc: 0.8905 - val_loss: 0.7220 - val_acc: 0.8710\n",
      "Epoch 14/40\n",
      "235/235 [==============================] - 10s 44ms/step - loss: 0.5359 - acc: 0.8958 - val_loss: 0.7088 - val_acc: 0.8728\n",
      "Epoch 15/40\n",
      "235/235 [==============================] - 10s 44ms/step - loss: 0.5087 - acc: 0.9010 - val_loss: 0.7020 - val_acc: 0.8741\n",
      "Epoch 16/40\n",
      "235/235 [==============================] - 10s 44ms/step - loss: 0.4835 - acc: 0.9060 - val_loss: 0.6909 - val_acc: 0.8766\n",
      "Epoch 17/40\n",
      "235/235 [==============================] - 10s 44ms/step - loss: 0.4588 - acc: 0.9106 - val_loss: 0.6782 - val_acc: 0.8793\n",
      "Epoch 18/40\n",
      "235/235 [==============================] - 10s 44ms/step - loss: 0.4369 - acc: 0.9146 - val_loss: 0.6710 - val_acc: 0.8791\n",
      "Epoch 19/40\n",
      "235/235 [==============================] - 10s 44ms/step - loss: 0.4168 - acc: 0.9181 - val_loss: 0.6655 - val_acc: 0.8804\n",
      "Epoch 20/40\n",
      "235/235 [==============================] - 10s 44ms/step - loss: 0.3986 - acc: 0.9217 - val_loss: 0.6579 - val_acc: 0.8815\n",
      "Epoch 21/40\n",
      "235/235 [==============================] - 10s 44ms/step - loss: 0.3819 - acc: 0.9252 - val_loss: 0.6563 - val_acc: 0.8827\n",
      "Epoch 22/40\n",
      "235/235 [==============================] - 10s 44ms/step - loss: 0.3655 - acc: 0.9282 - val_loss: 0.6564 - val_acc: 0.8819\n",
      "Epoch 23/40\n",
      "235/235 [==============================] - 10s 43ms/step - loss: 0.3501 - acc: 0.9309 - val_loss: 0.6508 - val_acc: 0.8829\n",
      "Epoch 24/40\n",
      "235/235 [==============================] - 10s 43ms/step - loss: 0.3361 - acc: 0.9337 - val_loss: 0.6441 - val_acc: 0.8846\n",
      "Epoch 25/40\n",
      "235/235 [==============================] - 10s 44ms/step - loss: 0.3234 - acc: 0.9361 - val_loss: 0.6474 - val_acc: 0.8846\n",
      "Epoch 26/40\n",
      "235/235 [==============================] - 10s 44ms/step - loss: 0.3125 - acc: 0.9383 - val_loss: 0.6484 - val_acc: 0.8843\n",
      "Epoch 27/40\n",
      "235/235 [==============================] - 10s 44ms/step - loss: 0.3021 - acc: 0.9401 - val_loss: 0.6433 - val_acc: 0.8859\n",
      "Epoch 28/40\n",
      "235/235 [==============================] - 10s 44ms/step - loss: 0.2921 - acc: 0.9423 - val_loss: 0.6448 - val_acc: 0.8844\n",
      "Epoch 29/40\n",
      "235/235 [==============================] - 10s 44ms/step - loss: 0.2835 - acc: 0.9439 - val_loss: 0.6478 - val_acc: 0.8847\n",
      "Epoch 30/40\n",
      "235/235 [==============================] - 10s 44ms/step - loss: 0.2751 - acc: 0.9454 - val_loss: 0.6483 - val_acc: 0.8849\n",
      "Epoch 31/40\n",
      "235/235 [==============================] - 10s 44ms/step - loss: 0.2666 - acc: 0.9468 - val_loss: 0.6455 - val_acc: 0.8858\n",
      "Epoch 32/40\n",
      "235/235 [==============================] - 10s 44ms/step - loss: 0.2590 - acc: 0.9481 - val_loss: 0.6469 - val_acc: 0.8858\n",
      "Epoch 33/40\n",
      "235/235 [==============================] - 10s 44ms/step - loss: 0.2513 - acc: 0.9493 - val_loss: 0.6452 - val_acc: 0.8872\n",
      "Epoch 34/40\n",
      "235/235 [==============================] - 10s 44ms/step - loss: 0.2446 - acc: 0.9505 - val_loss: 0.6471 - val_acc: 0.8857\n",
      "Epoch 35/40\n",
      "235/235 [==============================] - 10s 44ms/step - loss: 0.2384 - acc: 0.9517 - val_loss: 0.6524 - val_acc: 0.8855\n",
      "Epoch 36/40\n",
      "235/235 [==============================] - 10s 44ms/step - loss: 0.2328 - acc: 0.9523 - val_loss: 0.6513 - val_acc: 0.8864\n",
      "Epoch 37/40\n",
      "235/235 [==============================] - 10s 44ms/step - loss: 0.2273 - acc: 0.9531 - val_loss: 0.6510 - val_acc: 0.8850\n",
      "Epoch 38/40\n",
      "235/235 [==============================] - 10s 44ms/step - loss: 0.2221 - acc: 0.9539 - val_loss: 0.6515 - val_acc: 0.8865\n",
      "Epoch 39/40\n",
      "235/235 [==============================] - 10s 44ms/step - loss: 0.2175 - acc: 0.9545 - val_loss: 0.6528 - val_acc: 0.8858\n",
      "Epoch 40/40\n",
      "235/235 [==============================] - 10s 44ms/step - loss: 0.2127 - acc: 0.9552 - val_loss: 0.6528 - val_acc: 0.8853\n"
     ]
    }
   ],
   "source": [
    "history = model.fit(x=[encoder_input_train, decoder_input_train], y=decoder_target_train,\n",
    "          validation_data = ([encoder_input_test, decoder_input_test], decoder_target_test),\n",
    "          batch_size = 128, epochs = 40)"
   ]
  },
  {
   "cell_type": "code",
   "execution_count": 25,
   "metadata": {},
   "outputs": [],
   "source": [
    "import matplotlib.pyplot as plt"
   ]
  },
  {
   "cell_type": "code",
   "execution_count": 26,
   "metadata": {},
   "outputs": [
    {
     "data": {
      "image/png": "[encoded data removed]",
      "text/plain": [
       "<Figure size 432x288 with 1 Axes>"
      ]
     },
     "metadata": {
      "needs_background": "light"
     },
     "output_type": "display_data"
    }
   ],
   "source": [
    "plt.plot(history.history['loss'])\n",
    "plt.plot(history.history['val_loss'], label='Val')\n",
    "plt.legend(['Train', 'Val'])\n",
    "plt.show()"
   ]
  },
  {
   "cell_type": "code",
   "execution_count": 27,
   "metadata": {},
   "outputs": [
    {
     "data": {
      "image/png": "[encoded data removed]",
      "text/plain": [
       "<Figure size 432x288 with 1 Axes>"
      ]
     },
     "metadata": {
      "needs_background": "light"
     },
     "output_type": "display_data"
    }
   ],
   "source": [
    "plt.plot(history.history['acc'])\n",
    "plt.plot(history.history['val_acc'])\n",
    "plt.legend(['Train', 'Val'])\n",
    "plt.show()"
   ]
  },
  {
   "cell_type": "markdown",
   "metadata": {},
   "source": [
    "### 4. 모델 구현하기\n",
    "---\n",
    "- 단어 단위의 번역기 모델"
   ]
  },
  {
   "cell_type": "code",
   "execution_count": 28,
   "metadata": {},
   "outputs": [
    {
     "name": "stdout",
     "output_type": "stream",
     "text": [
      "Model: \"functional_5\"\n",
      "_________________________________________________________________\n",
      "Layer (type)                 Output Shape              Param #   \n",
      "=================================================================\n",
      "input_3 (InputLayer)         [(None, None)]            0         \n",
      "_________________________________________________________________\n",
      "embedding_2 (Embedding)      (None, None, 256)         1193472   \n",
      "_________________________________________________________________\n",
      "masking_2 (Masking)          (None, None, 256)         0         \n",
      "_________________________________________________________________\n",
      "lstm_2 (LSTM)                [(None, 256), (None, 256) 525312    \n",
      "=================================================================\n",
      "Total params: 1,718,784\n",
      "Trainable params: 1,718,784\n",
      "Non-trainable params: 0\n",
      "_________________________________________________________________\n"
     ]
    }
   ],
   "source": [
    "encoder_model = Model(inputs=encoder_inputs, outputs=encoder_states)\n",
    "encoder_model.summary()"
   ]
  },
  {
   "cell_type": "code",
   "execution_count": 30,
   "metadata": {},
   "outputs": [],
   "source": [
    "decoder_state_input_h = Input(shape=(256,))\n",
    "decoder_state_input_c = Input(shape=(256,))\n",
    "decoder_states_inputs = [decoder_state_input_h, decoder_state_input_c]\n",
    "\n",
    "dec_emb2 = Embedding(fra_vocab_size, 256)(decoder_inputs)\n",
    "decoder_outputs2, state_h2, state_c2 = decoder_lstm(dec_emb2, initial_state=decoder_states_inputs)\n",
    "decoder_states2 = [state_h2, state_c2]\n",
    "\n",
    "decoder_outputs2 = decoder_softmax_layer(decoder_outputs2)"
   ]
  },
  {
   "cell_type": "code",
   "execution_count": 33,
   "metadata": {},
   "outputs": [
    {
     "name": "stdout",
     "output_type": "stream",
     "text": [
      "Model: \"functional_8\"\n",
      "__________________________________________________________________________________________________\n",
      "Layer (type)                    Output Shape         Param #     Connected to                     \n",
      "==================================================================================================\n",
      "input_4 (InputLayer)            [(None, None)]       0                                            \n",
      "__________________________________________________________________________________________________\n",
      "embedding_5 (Embedding)         (None, None, 256)    1875456     input_4[0][0]                    \n",
      "__________________________________________________________________________________________________\n",
      "input_7 (InputLayer)            [(None, 256)]        0                                            \n",
      "__________________________________________________________________________________________________\n",
      "input_8 (InputLayer)            [(None, 256)]        0                                            \n",
      "__________________________________________________________________________________________________\n",
      "lstm_3 (LSTM)                   [(None, None, 256),  525312      embedding_5[0][0]                \n",
      "                                                                 input_7[0][0]                    \n",
      "                                                                 input_8[0][0]                    \n",
      "__________________________________________________________________________________________________\n",
      "dense_1 (Dense)                 (None, None, 7326)   1882782     lstm_3[1][0]                     \n",
      "==================================================================================================\n",
      "Total params: 4,283,550\n",
      "Trainable params: 4,283,550\n",
      "Non-trainable params: 0\n",
      "__________________________________________________________________________________________________\n"
     ]
    }
   ],
   "source": [
    "decoder_model = Model(inputs=[decoder_inputs] + decoder_states_inputs, outputs=[decoder_outputs2] + decoder_states2)\n",
    "decoder_model.summary()"
   ]
  },
  {
   "cell_type": "code",
   "execution_count": 34,
   "metadata": {},
   "outputs": [],
   "source": [
    "eng2idx = eng_tokenizer.word_index\n",
    "fra2idx = fra_tokenizer.word_index\n",
    "idx2eng = eng_tokenizer.index_word\n",
    "idx2fra = fra_tokenizer.index_word"
   ]
  },
  {
   "cell_type": "code",
   "execution_count": 39,
   "metadata": {},
   "outputs": [],
   "source": [
    "def decode_sequence(input_seq):\n",
    "    states_value = encoder_model.predict(input_seq)\n",
    "    \n",
    "    target_seq = np.zeros((1,1))\n",
    "    target_seq[0, 0] = fra2idx['<start>']\n",
    "    \n",
    "    stop_condition = False\n",
    "    decoded_sentence = ''\n",
    "    \n",
    "    while not stop_condition:\n",
    "        \n",
    "        output_tokens, h, c = decoder_model.predict([target_seq] + states_value)\n",
    "        \n",
    "        sampled_token_index = np.argmax(output_tokens[0, -1, :])\n",
    "        sampled_char = idx2fra[sampled_token_index]\n",
    "        \n",
    "        decoded_sentence += ' ' + sampled_char\n",
    "        \n",
    "        if(sampled_char == '<end>' or len(decoded_sentence) > max_fra_len):\n",
    "            stop_condition = True\n",
    "            \n",
    "        target_seq = np.zeros((1, 1))\n",
    "        target_seq[0, 0] = sampled_token_index\n",
    "        \n",
    "        states_value = [h, c]\n",
    "        \n",
    "    return decoded_sentence"
   ]
  },
  {
   "cell_type": "code",
   "execution_count": 40,
   "metadata": {},
   "outputs": [],
   "source": [
    "def seq2src(input_seq):\n",
    "    temp=''\n",
    "    for i in input_seq:\n",
    "        if(i!=0):\n",
    "            temp = temp + idx2eng[i] + ' '\n",
    "    return temp\n",
    "\n",
    "def seq2tar(input_seq):\n",
    "    temp=''\n",
    "    for i in input_seq:\n",
    "        if((i!=0 and i!=fra2idx['<start>']) and i!=fra2idx['<end>']):\n",
    "            temp = temp + idx2fra[i] + ' '\n",
    "    return temp"
   ]
  },
  {
   "cell_type": "markdown",
   "metadata": {},
   "source": [
    "### 5. 모델 평가하기\n",
    "---"
   ]
  },
  {
   "cell_type": "code",
   "execution_count": 41,
   "metadata": {},
   "outputs": [
    {
     "name": "stdout",
     "output_type": "stream",
     "text": [
      "-----------------------------------\n",
      "입력 문장: can you drive a car ? \n",
      "정답 문장: sais tu conduire ? \n",
      "번역 문장:  pouvez tu une un\n",
      "-----------------------------------\n",
      "입력 문장: don t fire anyone . \n",
      "정답 문장: ne virez personne ! \n",
      "번역 문장:  n de l pas . . . \n",
      "-----------------------------------\n",
      "입력 문장: give me a sec . \n",
      "정답 문장: donnez moi une seconde . \n",
      "번역 문장:  donne moi moi un e\n",
      "-----------------------------------\n",
      "입력 문장: it wasn t that big . \n",
      "정답 문장: il n tait pas si gros . \n",
      "번역 문장:  ce n n si si si \n",
      "-----------------------------------\n",
      "입력 문장: he ran out of money . \n",
      "정답 문장: il a t court d argent . \n",
      "번역 문장:  il il ne une d d u\n"
     ]
    }
   ],
   "source": [
    "for seq_index in [22,330,540,770,980]:\n",
    "    input_seq = encoder_input_test[seq_index: seq_index + 1]\n",
    "    decoded_sentence = decode_sequence(input_seq)\n",
    "    print(35 * \"-\")\n",
    "    print('입력 문장:', seq2src(encoder_input_test[seq_index]))\n",
    "    print('정답 문장:', seq2tar(decoder_input_test[seq_index]))\n",
    "    print('번역 문장:', decoded_sentence[:len(decoded_sentence)-1])"
   ]
  },
  {
   "cell_type": "code",
   "execution_count": null,
   "metadata": {},
   "outputs": [],
   "source": []
  }
 ],
 "metadata": {
  "kernelspec": {
   "display_name": "aiffel",
   "language": "python",
   "name": "aiffel"
  },
  "language_info": {
   "codemirror_mode": {
    "name": "ipython",
    "version": 3
   },
   "file_extension": ".py",
   "mimetype": "text/x-python",
   "name": "python",
   "nbconvert_exporter": "python",
   "pygments_lexer": "ipython3",
   "version": "3.7.6"
  }
 },
 "nbformat": 4,
 "nbformat_minor": 4
}
