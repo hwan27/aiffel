{
 "cells": [
  {
   "cell_type": "code",
   "execution_count": 4,
   "metadata": {
    "ExecuteTime": {
     "end_time": "2020-11-19T06:13:52.709146Z",
     "start_time": "2020-11-19T06:13:52.681324Z"
    }
   },
   "outputs": [
    {
     "name": "stdout",
     "output_type": "stream",
     "text": [
      "2.3.0\n"
     ]
    }
   ],
   "source": [
    "# 필요 라이브러리 로딩\n",
    "from __future__ import absolute_import, division\n",
    "from __future__ import print_function, unicode_literals\n",
    "\n",
    "import os\n",
    "import time\n",
    "import shutil\n",
    "import functools\n",
    "\n",
    "import numpy as np\n",
    "import matplotlib.pyplot as plt\n",
    "%matplotlib inline\n",
    "import matplotlib as mpl\n",
    "mpl.rcParams['axes.grid'] = False\n",
    "mpl.rcParams['figure.figsize'] = (12,12)\n",
    "\n",
    "from sklearn.model_selection import train_test_split\n",
    "from sklearn.metrics import confusion_matrix\n",
    "import matplotlib.image as mpimg\n",
    "import pandas as pd\n",
    "from PIL import Image\n",
    "from IPython.display import clear_output\n",
    "\n",
    "import tensorflow as tf\n",
    "import tensorflow_addons as tfa\n",
    "print(tf.__version__)\n",
    "\n",
    "from tensorflow.keras import layers\n",
    "from tensorflow.keras import losses\n",
    "from tensorflow.keras import models"
   ]
  },
  {
   "cell_type": "code",
   "execution_count": 6,
   "metadata": {
    "ExecuteTime": {
     "end_time": "2020-11-19T06:17:08.146101Z",
     "start_time": "2020-11-19T06:16:49.090003Z"
    }
   },
   "outputs": [
    {
     "name": "stdout",
     "output_type": "stream",
     "text": [
      "Data has been downloaded\n",
      "Data has been extracted.\n"
     ]
    }
   ],
   "source": [
    "DATASET_PATH=os.path.join(os.getenv('HOME'),'project/aiffel/e/e27')\n",
    "\n",
    "if not os.path.isdir(DATASET_PATH):\n",
    "    os.makedirs(DATASET_PATH)\n",
    "\n",
    "import urllib.request\n",
    "u = urllib.request.urlopen(url='https://aiffelstaticprd.blob.core.windows.net/media/documents/sd_train.zip')\n",
    "data = u.read()\n",
    "u.close()\n",
    "\n",
    "with open('sd_train.zip', \"wb\") as f :\n",
    "    f.write(data)\n",
    "    print('Data has been downloaded')\n",
    "\n",
    "#shutil.move(os.path.join('sd_train.zip'), os.path.join(DATASET_PATH))\n",
    "file_path = os.path.join(DATASET_PATH, 'sd_train.zip')\n",
    "\n",
    "import zipfile\n",
    "zip_ref = zipfile.ZipFile(file_path, 'r')\n",
    "zip_ref.extractall(DATASET_PATH)\n",
    "zip_ref.close()\n",
    "print('Data has been extracted.')"
   ]
  },
  {
   "cell_type": "code",
   "execution_count": null,
   "metadata": {},
   "outputs": [],
   "source": []
  }
 ],
 "metadata": {
  "kernelspec": {
   "display_name": "aiffel",
   "language": "python",
   "name": "aiffel"
  },
  "language_info": {
   "codemirror_mode": {
    "name": "ipython",
    "version": 3
   },
   "file_extension": ".py",
   "mimetype": "text/x-python",
   "name": "python",
   "nbconvert_exporter": "python",
   "pygments_lexer": "ipython3",
   "version": "3.7.6"
  }
 },
 "nbformat": 4,
 "nbformat_minor": 4
}
